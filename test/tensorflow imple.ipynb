{
 "cells": [
  {
   "cell_type": "code",
   "execution_count": 13,
   "metadata": {},
   "outputs": [],
   "source": [
    "## Imports\n",
    "import os\n",
    "import sys\n",
    "import random\n",
    "import cv2\n",
    "import numpy as np\n",
    "import matplotlib.pyplot as plt\n",
    "from glob import glob\n",
    "import tensorflow as tf\n",
    "from sklearn.model_selection import train_test_split\n",
    "from tensorflow.keras.models import Model, load_model\n",
    "from tensorflow.keras.layers import Input, BatchNormalization, Activation, Dense, Dropout, MaxPooling2D, GlobalMaxPool2D, Conv2D, Conv2DTranspose, concatenate, add\n",
    "from tensorflow.keras.callbacks import EarlyStopping, ModelCheckpoint, ReduceLROnPlateau\n",
    "from tensorflow.keras.optimizers import Adam\n",
    "import tensorflow.keras.backend as K\n",
    "from tensorflow.keras.preprocessing.image import ImageDataGenerator, array_to_img, img_to_array, load_img"
   ]
  },
  {
   "cell_type": "code",
   "execution_count": 14,
   "metadata": {},
   "outputs": [],
   "source": [
    "from dataloaders.TGSSaltDataloader import *\n",
    "from PIL import Image\n"
   ]
  },
  {
   "cell_type": "code",
   "execution_count": 15,
   "metadata": {},
   "outputs": [],
   "source": [
    "# dataset: https://www.kaggle.com/c/tgs-salt-identification-challenge \n",
    "# TGSSalt\n",
    "# file_list = ['datasets/TGSSalt/train/images', 'datasets/TGSSalt/train/masks', 'datasets/TGSSalt/test/images']\n",
    "# test에는 labeling 안된 데이터만 있어서 사용하지 않고자 함.\n",
    "file_list = ['datasets/TGSSalt/train/images', 'datasets/TGSSalt/train/masks']\n",
    "x_train, y_train, x_test = list(), list(), list()\n",
    "\n",
    "for i in range(len(file_list)):\n",
    "    # print(\"file_list : \", i)\n",
    "    for file_name in [file for file in os.listdir(file_list[i])]:\n",
    "        # print(\"\\tfile_name : \", file_name)\n",
    "        if i == 0 or i == 2:\n",
    "            x_data_ = np.array(Image.open(file_list[i] + \"/\" + file_name))\n",
    "            if x_data_.shape[-1] == 4:    \n",
    "                x_data_ = x_data_[:, :, :-1]\n",
    "                \n",
    "            if i == 0:\n",
    "                x_train += [x_data_]\n",
    "            else:\n",
    "                x_test += [x_data_]\n",
    "        else:\n",
    "            y_data_ = np.array(Image.open(file_list[i] + \"/\" + file_name))\n",
    "            y_train += [y_data_]\n",
    "            \n",
    "x_train, y_train, x_test = np.array(x_train), np.array(y_train), np.array(x_test) "
   ]
  },
  {
   "cell_type": "code",
   "execution_count": 21,
   "metadata": {},
   "outputs": [],
   "source": [
    "# Converting the image into the desired form\n",
    "def load_image(img_path, show=False):\n",
    "    img = cv2.imread(img_path)\n",
    "    img = cv2.cvtColor(img, cv2.COLOR_BGR2GRAY)\n",
    "    img = cv2.resize(img, (128,128))\n",
    "    img_tensor = img_to_array(img)                   \n",
    "    #img_tensor = np.expand_dims(img_tensor, axis=0)         \n",
    "\n",
    "    return img_tensor\n",
    "\n",
    "x = []\n",
    "y = []\n",
    "\n",
    "def get_image(path):\n",
    "    data =[]\n",
    "    for subdir, dirs, files in os.walk(path):\n",
    "        for f in files:\n",
    "            path = os.path.join(subdir, f)\n",
    "            img = load_image(path)     \n",
    "            img = img/255.0\n",
    "            data.append(img)\n",
    "    return data\n",
    "\n",
    "\n",
    "x = get_image('datasets/TGSSalt/train/images')\n",
    "y = get_image('datasets/TGSSalt/train/masks')\n",
    "\n",
    "x = np.asarray(x)\n",
    "y = np.asarray(y)"
   ]
  },
  {
   "cell_type": "code",
   "execution_count": null,
   "metadata": {},
   "outputs": [],
   "source": []
  }
 ],
 "metadata": {
  "kernelspec": {
   "display_name": "Python 3.7.13 ('vision_tf')",
   "language": "python",
   "name": "python3"
  },
  "language_info": {
   "codemirror_mode": {
    "name": "ipython",
    "version": 3
   },
   "file_extension": ".py",
   "mimetype": "text/x-python",
   "name": "python",
   "nbconvert_exporter": "python",
   "pygments_lexer": "ipython3",
   "version": "3.7.13"
  },
  "orig_nbformat": 4,
  "vscode": {
   "interpreter": {
    "hash": "ee83695ec4ab9699724b64aaff13fcb73bed2b27865f6de04749e4214ca1f3ef"
   }
  }
 },
 "nbformat": 4,
 "nbformat_minor": 2
}
